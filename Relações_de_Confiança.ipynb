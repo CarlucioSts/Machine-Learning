{
  "nbformat": 4,
  "nbformat_minor": 0,
  "metadata": {
    "colab": {
      "name": "Relações de Confiança.ipynb",
      "provenance": [],
      "authorship_tag": "ABX9TyPnq5/3jw78aLQ12wnZUHj3",
      "include_colab_link": true
    },
    "kernelspec": {
      "name": "python3",
      "display_name": "Python 3"
    },
    "language_info": {
      "name": "python"
    }
  },
  "cells": [
    {
      "cell_type": "markdown",
      "metadata": {
        "id": "view-in-github",
        "colab_type": "text"
      },
      "source": [
        "<a href=\"https://colab.research.google.com/github/CarlucioSts/Machine-Learning/blob/main/Rela%C3%A7%C3%B5es_de_Confian%C3%A7a.ipynb\" target=\"_parent\"><img src=\"https://colab.research.google.com/assets/colab-badge.svg\" alt=\"Open In Colab\"/></a>"
      ]
    },
    {
      "cell_type": "code",
      "metadata": {
        "id": "ABdt8Ueb4aeY"
      },
      "source": [
        "def processa(ent):\n",
        "  rel_conf = {}\n",
        "\n",
        "  for rel in ent:\n",
        "\n",
        "    if rel[0] not in rel_conf:\n",
        "      rel_conf[rel[0]] = {'confia_em': set(), 'confiado_por': set()}\n",
        "    \n",
        "    rel_conf[rel[0]]['confia_em'].add(rel[1])\n",
        "    \n",
        "    if rel[1] not in rel_conf:\n",
        "      rel_conf[rel[1]] = {'confia_em': set(), 'confiado_por': set()}\n",
        "    \n",
        "    rel_conf[rel[1]]['confiado_por'].add(rel[0])\n",
        "  \n",
        "  return rel_conf"
      ],
      "execution_count": 60,
      "outputs": []
    },
    {
      "cell_type": "code",
      "metadata": {
        "id": "ApkqqEaM5NjX"
      },
      "source": [
        "def investiga(rel_conf, N):\n",
        "  espiao = []\n",
        "  for id, cjs in rel_conf.items():\n",
        "    if len(cjs['confia_em']) == 0 and len(cjs['confiado_por']) == N-1:\n",
        "      espiao.append(id)\n",
        "  if len(espiao)==1:\n",
        "    return espiao[0]\n",
        "  else:\n",
        "    return -1"
      ],
      "execution_count": 61,
      "outputs": []
    },
    {
      "cell_type": "code",
      "metadata": {
        "colab": {
          "base_uri": "https://localhost:8080/"
        },
        "id": "Al20XAPU5L46",
        "outputId": "c3d44efa-fc57-4946-fffc-1fd7dd73e7d7"
      },
      "source": [
        "ent = [[1,2],[1,3],[3,2]]\n",
        "N=3\n",
        "\n",
        "rel_conf = processa(ent)\n",
        "print('O espião é o:', investiga(rel_conf,N))"
      ],
      "execution_count": 63,
      "outputs": [
        {
          "output_type": "stream",
          "name": "stdout",
          "text": [
            "O espião é o: 2\n"
          ]
        }
      ]
    },
    {
      "cell_type": "code",
      "metadata": {
        "id": "6Znd03a-_xe1"
      },
      "source": [
        ""
      ],
      "execution_count": null,
      "outputs": []
    }
  ]
}